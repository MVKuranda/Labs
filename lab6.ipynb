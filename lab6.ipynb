import cv2
import matplotlib.pyplot as plt
import numpy as np
digit = cv2.imread(r"C:\Users\Reykas\Desktop\lab1\digit.jpg", cv2.IMREAD_GRAYSCALE)
plt.imshow(digit, cmap = 'gray', vmin = 0, vmax = 255);
plt.show();

bin_img = digit.copy()
threshold = 55
max_val = 55
min_val = 0

for row in range(digit.shape[0]):
    for col in range(digit.shape[1]):
        if (digit[row][col]) > threshold:
            bin_img[row][col] = max_val
        else:
            bin_img[row][col] = min_val
plt.figure(figsize=(5,5))
plt.imshow(bin_img, cmap = 'gray'); plt.show();

kernel = np.ones((2,1),np.uint8)
closing_ref = cv2.morphologyEx(bin_img, cv2.MORPH_CLOSE,kernel, iterations = 1)
plt.imshow(closing_ref, cmap = 'gray'); plt.show();

first_img=cv2.imread(r"C:\Users\Reykas\Desktop\lab1\basketball.jpg")
digit = cv2.imread(r"C:\Users\Reykas\Desktop\lab1\basketball.jpg", cv2.IMREAD_GRAYSCALE)
plt.imshow(digit, cmap = 'gray', vmin = 0, vmax = 255);
plt.show();

max,retval = cv2.threshold(digit, threshold, 240, cv2.THRESH_BINARY)
plt.imshow(retval, cmap = 'gray');
plt.show()

min,retval_m = cv2.threshold(digit, threshold, 170, cv2.THRESH_BINARY)
plt.imshow(retval_m, cmap = 'gray');
plt.show()

mask=retval_m-retval
plt.imshow(mask, cmap = 'gray');

kernel = np.ones((5,5),np.uint8)
erosion = cv2.erode(mask,kernel,iterations = 3)
plt.imshow(erosion, cmap = 'gray');

dilation = cv2.dilate(erosion,kernel,iterations = 9)
plt.imshow(dilation , cmap = 'gray');

erosion2 = cv2.erode(dilation,kernel,iterations = 1)
plt.imshow(erosion2, cmap = 'gray')
<matplotlib.image.AxesImage at 0x2559fc94390>

out = cv2.bitwise_and(first_img,first_img, mask = dilation)
plt.imshow(out,);
